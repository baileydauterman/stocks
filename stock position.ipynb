{
 "cells": [
  {
   "cell_type": "code",
   "execution_count": 15,
   "metadata": {},
   "outputs": [],
   "source": [
    "import numpy as np\n",
    "import pandas as pd\n",
    "import matplotlib.pyplot as plt\n",
    "%matplotlib inline\n",
    "import pandas_datareader\n",
    "import datetime\n",
    "import pandas_datareader.data as web\n",
    "from pandas.plotting import scatter_matrix\n",
    "\n",
    "start = datetime.datetime(2009, 11, 11)\n",
    "end = datetime.datetime(2019, 11, 11)\n",
    "total_investment_amount = 34313.76\n",
    "\n",
    "#Consumer Staples: Discretionary\n",
    "cag = web.DataReader(\"CAG\", \"yahoo\", start, end)\n",
    "ccl = web.DataReader(\"CCL\", \"yahoo\", start, end)\n",
    "low = web.DataReader(\"LOW\", \"yahoo\", start, end)\n",
    "pep = web.DataReader(\"PEP\", \"yahoo\", start, end)\n",
    "sbux = web.DataReader(\"SBUX\", \"yahoo\", start, end)\n",
    "tjx = web.DataReader(\"TJX\", \"yahoo\", start, end)\n",
    "\n",
    "#EMI\n",
    "ba = web.DataReader(\"BA\", \"yahoo\", start, end)\n",
    "glw = web.DataReader(\"GLW\", \"yahoo\", start, end)\n",
    "ip = web.DataReader(\"IP\", \"yahoo\", start, end)\n",
    "mlm = web.DataReader(\"MLM\", \"yahoo\", start, end)\n",
    "unp = web.DataReader(\"UNP\", \"yahoo\", start, end)\n",
    "xel = web.DataReader(\"XEL\", \"yahoo\", start, end)\n",
    "\n",
    "#financials\n",
    "allstate = web.DataReader(\"ALL\", \"yahoo\", start, end)\n",
    "bx = web.DataReader(\"BX\", \"yahoo\", start, end)\n",
    "ice = web.DataReader(\"ICE\", \"yahoo\", start, end)\n",
    "jpm = web.DataReader(\"JPM\", \"yahoo\", start, end)\n",
    "pnc = web.DataReader(\"PNC\", \"yahoo\", start, end)\n",
    "V = web.DataReader(\"V\", \"yahoo\", start, end)\n",
    "\n",
    "#healthcare\n",
    "abbv = web.DataReader(\"ABBV\", \"yahoo\", start, end)\n",
    "cvs = web.DataReader(\"CVS\", \"yahoo\", start, end)\n",
    "hca = web.DataReader(\"HCA\", \"yahoo\", start, end)\n",
    "mdt = web.DataReader(\"MDT\", \"yahoo\", start, end)\n",
    "pfe = web.DataReader(\"PFE\", \"yahoo\", start, end)\n",
    "pld = web.DataReader(\"PLD\", \"yahoo\", start, end)\n",
    "shpg = web.DataReader(\"SHPG\", \"yahoo\", start, end)\n",
    "unh = web.DataReader(\"UNH\", \"yahoo\", start, end)\n",
    "\n",
    "#Telecomm\n",
    "adbe = web.DataReader(\"ADBE\", \"yahoo\", start, end)\n",
    "baba = web.DataReader(\"BABA\", \"yahoo\", start, end)\n",
    "crm = web.DataReader(\"CRM\", \"yahoo\", start, end)\n",
    "dis = web.DataReader(\"DIS\", \"yahoo\", start, end)\n",
    "nvda = web.DataReader(\"NVDA\", \"yahoo\", start, end)\n",
    "on = web.DataReader(\"ON\", \"yahoo\", start, end)\n",
    "vz = web.DataReader(\"VZ\", \"yahoo\", start, end)"
   ]
  },
  {
   "cell_type": "code",
   "execution_count": 23,
   "metadata": {},
   "outputs": [],
   "source": [
    "#non-discretionary\n",
    "phm = web.DataReader(\"PHM\", \"yahoo\", start, end)\n",
    "mu = web.DataReader(\"MU\", \"yahoo\", start, end)\n",
    "ffiv = web.DataReader(\"FFIV\", \"yahoo\", start, end)\n",
    "pnw = web.DataReader(\"PNW\", \"yahoo\", start, end)\n",
    "sna = web.DataReader(\"SNA\", \"yahoo\", start, end)\n",
    "cmi = web.DataReader(\"CMI\", \"yahoo\", start, end)\n",
    "cof = web.DataReader(\"COF\", \"yahoo\", start, end)\n",
    "nue = web.DataReader(\"NUE\", \"yahoo\", start, end)\n",
    "regn = web.DataReader(\"REGN\", \"yahoo\", start, end)\n",
    "bwa = web.DataReader(\"BWA\", \"yahoo\", start, end)"
   ]
  },
  {
   "cell_type": "code",
   "execution_count": 20,
   "metadata": {},
   "outputs": [],
   "source": [
    "for stock_df in (cag, ccl, low, pep, sbux, tjx, ba, glw, ip, mlm, unp, xel, allstate, bx, ice, jpm, pnc, V, abbv, cvs, hca, mdt, pfe, pld, shpg, unh, adbe, baba, crm, dis, nvda, on, vz):\n",
    "    stock_df['Normed Return'] = stock_df['Adj Close'] / stock_df.iloc[0]['Adj Close']"
   ]
  },
  {
   "cell_type": "code",
   "execution_count": 32,
   "metadata": {},
   "outputs": [],
   "source": [
    "for stock_df,allow in zip([phm, mu, ffiv, pnw, sna, cmi, cof, nue, regn, bwa],[.0258,.0250,.0230,.0216,.0215,.0213,.0208,.0203,.02,.0199]):\n",
    "    stock_df['Allocation'] = stock_df['Normed Return'] * allow"
   ]
  },
  {
   "cell_type": "code",
   "execution_count": 35,
   "metadata": {},
   "outputs": [],
   "source": [
    "for stock_df in (phm, mu, ffiv, pnw, sna, cmi, cof, nue, regn, bwa):\n",
    "    stock_df['Position Value'] = stock_df['Allocation'] * total_investment_amount"
   ]
  },
  {
   "cell_type": "code",
   "execution_count": null,
   "metadata": {},
   "outputs": [],
   "source": []
  },
  {
   "cell_type": "code",
   "execution_count": 38,
   "metadata": {},
   "outputs": [],
   "source": [
    "portfolio_val = pd.concat([phm['Position Value'], mu['Position Value'], ffiv['Position Value'], pnw['Position Value'], sna['Position Value'], cmi['Position Value'], cof['Position Value'], nue['Position Value'], regn['Position Value'], bwa['Position Value']],axis=1)"
   ]
  },
  {
   "cell_type": "code",
   "execution_count": 39,
   "metadata": {},
   "outputs": [],
   "source": [
    "portfolio_val.columns = ['PHM Pos','MU Pos', 'FFIV Pos', 'PNW Pos','SNA Pos', 'CMI Pos', 'COF Pos','NUE Pos','REGN Pos', 'BWA Pos']"
   ]
  },
  {
   "cell_type": "code",
   "execution_count": 41,
   "metadata": {},
   "outputs": [],
   "source": [
    "portfolio_val['Total Pos'] = portfolio_val.sum(axis=1)"
   ]
  },
  {
   "cell_type": "code",
   "execution_count": 42,
   "metadata": {},
   "outputs": [
    {
     "data": {
      "text/html": [
       "<div>\n",
       "<style scoped>\n",
       "    .dataframe tbody tr th:only-of-type {\n",
       "        vertical-align: middle;\n",
       "    }\n",
       "\n",
       "    .dataframe tbody tr th {\n",
       "        vertical-align: top;\n",
       "    }\n",
       "\n",
       "    .dataframe thead th {\n",
       "        text-align: right;\n",
       "    }\n",
       "</style>\n",
       "<table border=\"1\" class=\"dataframe\">\n",
       "  <thead>\n",
       "    <tr style=\"text-align: right;\">\n",
       "      <th></th>\n",
       "      <th>PHM Pos</th>\n",
       "      <th>MU Pos</th>\n",
       "      <th>FFIV Pos</th>\n",
       "      <th>PNW Pos</th>\n",
       "      <th>SNA Pos</th>\n",
       "      <th>CMI Pos</th>\n",
       "      <th>COF Pos</th>\n",
       "      <th>NUE Pos</th>\n",
       "      <th>REGN Pos</th>\n",
       "      <th>BWA Pos</th>\n",
       "      <th>Total Pos</th>\n",
       "    </tr>\n",
       "    <tr>\n",
       "      <th>Date</th>\n",
       "      <th></th>\n",
       "      <th></th>\n",
       "      <th></th>\n",
       "      <th></th>\n",
       "      <th></th>\n",
       "      <th></th>\n",
       "      <th></th>\n",
       "      <th></th>\n",
       "      <th></th>\n",
       "      <th></th>\n",
       "      <th></th>\n",
       "    </tr>\n",
       "  </thead>\n",
       "  <tbody>\n",
       "    <tr>\n",
       "      <td>2009-11-11</td>\n",
       "      <td>885.295008</td>\n",
       "      <td>857.844000</td>\n",
       "      <td>789.216480</td>\n",
       "      <td>741.177216</td>\n",
       "      <td>737.745840</td>\n",
       "      <td>730.883088</td>\n",
       "      <td>713.726208</td>\n",
       "      <td>696.569328</td>\n",
       "      <td>686.275200</td>\n",
       "      <td>682.843824</td>\n",
       "      <td>7521.576192</td>\n",
       "    </tr>\n",
       "    <tr>\n",
       "      <td>2009-11-12</td>\n",
       "      <td>846.352432</td>\n",
       "      <td>868.110767</td>\n",
       "      <td>780.141183</td>\n",
       "      <td>730.147811</td>\n",
       "      <td>724.722513</td>\n",
       "      <td>718.853493</td>\n",
       "      <td>690.859283</td>\n",
       "      <td>682.288435</td>\n",
       "      <td>687.723766</td>\n",
       "      <td>670.314520</td>\n",
       "      <td>7399.514204</td>\n",
       "    </tr>\n",
       "    <tr>\n",
       "      <td>2009-11-13</td>\n",
       "      <td>838.563826</td>\n",
       "      <td>856.703278</td>\n",
       "      <td>812.812063</td>\n",
       "      <td>733.015405</td>\n",
       "      <td>730.467815</td>\n",
       "      <td>724.405563</td>\n",
       "      <td>698.601659</td>\n",
       "      <td>685.985007</td>\n",
       "      <td>672.513443</td>\n",
       "      <td>668.852934</td>\n",
       "      <td>7421.920994</td>\n",
       "    </tr>\n",
       "    <tr>\n",
       "      <td>2009-11-16</td>\n",
       "      <td>849.814025</td>\n",
       "      <td>871.532987</td>\n",
       "      <td>823.042387</td>\n",
       "      <td>741.397920</td>\n",
       "      <td>738.895095</td>\n",
       "      <td>753.246052</td>\n",
       "      <td>718.227071</td>\n",
       "      <td>705.810055</td>\n",
       "      <td>714.160735</td>\n",
       "      <td>676.161468</td>\n",
       "      <td>7592.287795</td>\n",
       "    </tr>\n",
       "    <tr>\n",
       "      <td>2009-11-17</td>\n",
       "      <td>830.775402</td>\n",
       "      <td>880.658978</td>\n",
       "      <td>821.062288</td>\n",
       "      <td>738.309622</td>\n",
       "      <td>730.659195</td>\n",
       "      <td>748.156415</td>\n",
       "      <td>729.210800</td>\n",
       "      <td>709.506145</td>\n",
       "      <td>721.765931</td>\n",
       "      <td>676.579237</td>\n",
       "      <td>7586.684013</td>\n",
       "    </tr>\n",
       "    <tr>\n",
       "      <td>...</td>\n",
       "      <td>...</td>\n",
       "      <td>...</td>\n",
       "      <td>...</td>\n",
       "      <td>...</td>\n",
       "      <td>...</td>\n",
       "      <td>...</td>\n",
       "      <td>...</td>\n",
       "      <td>...</td>\n",
       "      <td>...</td>\n",
       "      <td>...</td>\n",
       "      <td>...</td>\n",
       "    </tr>\n",
       "    <tr>\n",
       "      <td>2019-11-05</td>\n",
       "      <td>3639.726289</td>\n",
       "      <td>5553.171049</td>\n",
       "      <td>2415.335726</td>\n",
       "      <td>2975.749335</td>\n",
       "      <td>3898.260223</td>\n",
       "      <td>3477.651956</td>\n",
       "      <td>2036.946222</td>\n",
       "      <td>1275.868098</td>\n",
       "      <td>12045.125410</td>\n",
       "      <td>2046.351112</td>\n",
       "      <td>39364.185421</td>\n",
       "    </tr>\n",
       "    <tr>\n",
       "      <td>2019-11-06</td>\n",
       "      <td>3692.021499</td>\n",
       "      <td>5439.096049</td>\n",
       "      <td>2440.581392</td>\n",
       "      <td>2988.533433</td>\n",
       "      <td>3869.035223</td>\n",
       "      <td>3505.870683</td>\n",
       "      <td>2031.503071</td>\n",
       "      <td>1268.277710</td>\n",
       "      <td>11751.420791</td>\n",
       "      <td>2035.451696</td>\n",
       "      <td>39021.791547</td>\n",
       "    </tr>\n",
       "    <tr>\n",
       "      <td>2019-11-07</td>\n",
       "      <td>3617.857548</td>\n",
       "      <td>5521.230188</td>\n",
       "      <td>2435.796121</td>\n",
       "      <td>2878.721185</td>\n",
       "      <td>3872.746391</td>\n",
       "      <td>3527.904369</td>\n",
       "      <td>2045.319917</td>\n",
       "      <td>1277.018133</td>\n",
       "      <td>11820.230267</td>\n",
       "      <td>2087.677769</td>\n",
       "      <td>39084.501888</td>\n",
       "    </tr>\n",
       "    <tr>\n",
       "      <td>2019-11-08</td>\n",
       "      <td>3630.218267</td>\n",
       "      <td>5383.199107</td>\n",
       "      <td>2448.831616</td>\n",
       "      <td>2831.846075</td>\n",
       "      <td>3872.050591</td>\n",
       "      <td>3600.190469</td>\n",
       "      <td>2044.479228</td>\n",
       "      <td>1277.938196</td>\n",
       "      <td>12377.941796</td>\n",
       "      <td>2103.118507</td>\n",
       "      <td>39569.813852</td>\n",
       "    </tr>\n",
       "    <tr>\n",
       "      <td>2019-11-11</td>\n",
       "      <td>3661.595030</td>\n",
       "      <td>5266.272493</td>\n",
       "      <td>2432.001088</td>\n",
       "      <td>2804.638789</td>\n",
       "      <td>3868.803408</td>\n",
       "      <td>3589.946756</td>\n",
       "      <td>2040.064887</td>\n",
       "      <td>1271.727902</td>\n",
       "      <td>12308.045912</td>\n",
       "      <td>2105.843231</td>\n",
       "      <td>39348.939497</td>\n",
       "    </tr>\n",
       "  </tbody>\n",
       "</table>\n",
       "<p>2517 rows × 11 columns</p>\n",
       "</div>"
      ],
      "text/plain": [
       "                PHM Pos       MU Pos     FFIV Pos      PNW Pos      SNA Pos  \\\n",
       "Date                                                                          \n",
       "2009-11-11   885.295008   857.844000   789.216480   741.177216   737.745840   \n",
       "2009-11-12   846.352432   868.110767   780.141183   730.147811   724.722513   \n",
       "2009-11-13   838.563826   856.703278   812.812063   733.015405   730.467815   \n",
       "2009-11-16   849.814025   871.532987   823.042387   741.397920   738.895095   \n",
       "2009-11-17   830.775402   880.658978   821.062288   738.309622   730.659195   \n",
       "...                 ...          ...          ...          ...          ...   \n",
       "2019-11-05  3639.726289  5553.171049  2415.335726  2975.749335  3898.260223   \n",
       "2019-11-06  3692.021499  5439.096049  2440.581392  2988.533433  3869.035223   \n",
       "2019-11-07  3617.857548  5521.230188  2435.796121  2878.721185  3872.746391   \n",
       "2019-11-08  3630.218267  5383.199107  2448.831616  2831.846075  3872.050591   \n",
       "2019-11-11  3661.595030  5266.272493  2432.001088  2804.638789  3868.803408   \n",
       "\n",
       "                CMI Pos      COF Pos      NUE Pos      REGN Pos      BWA Pos  \\\n",
       "Date                                                                           \n",
       "2009-11-11   730.883088   713.726208   696.569328    686.275200   682.843824   \n",
       "2009-11-12   718.853493   690.859283   682.288435    687.723766   670.314520   \n",
       "2009-11-13   724.405563   698.601659   685.985007    672.513443   668.852934   \n",
       "2009-11-16   753.246052   718.227071   705.810055    714.160735   676.161468   \n",
       "2009-11-17   748.156415   729.210800   709.506145    721.765931   676.579237   \n",
       "...                 ...          ...          ...           ...          ...   \n",
       "2019-11-05  3477.651956  2036.946222  1275.868098  12045.125410  2046.351112   \n",
       "2019-11-06  3505.870683  2031.503071  1268.277710  11751.420791  2035.451696   \n",
       "2019-11-07  3527.904369  2045.319917  1277.018133  11820.230267  2087.677769   \n",
       "2019-11-08  3600.190469  2044.479228  1277.938196  12377.941796  2103.118507   \n",
       "2019-11-11  3589.946756  2040.064887  1271.727902  12308.045912  2105.843231   \n",
       "\n",
       "               Total Pos  \n",
       "Date                      \n",
       "2009-11-11   7521.576192  \n",
       "2009-11-12   7399.514204  \n",
       "2009-11-13   7421.920994  \n",
       "2009-11-16   7592.287795  \n",
       "2009-11-17   7586.684013  \n",
       "...                  ...  \n",
       "2019-11-05  39364.185421  \n",
       "2019-11-06  39021.791547  \n",
       "2019-11-07  39084.501888  \n",
       "2019-11-08  39569.813852  \n",
       "2019-11-11  39348.939497  \n",
       "\n",
       "[2517 rows x 11 columns]"
      ]
     },
     "execution_count": 42,
     "metadata": {},
     "output_type": "execute_result"
    }
   ],
   "source": [
    "portfolio_val"
   ]
  },
  {
   "cell_type": "code",
   "execution_count": 43,
   "metadata": {},
   "outputs": [
    {
     "data": {
      "text/plain": [
       "Text(0.5, 1.0, 'Total Portfolio Value')"
      ]
     },
     "execution_count": 43,
     "metadata": {},
     "output_type": "execute_result"
    },
    {
     "data": {
      "image/png": "[encoded data removed]",
      "text/plain": [
       "<Figure size 720x576 with 1 Axes>"
      ]
     },
     "metadata": {
      "needs_background": "light"
     },
     "output_type": "display_data"
    }
   ],
   "source": [
    "portfolio_val['Total Pos'].plot(figsize=(10,8))\n",
    "plt.title('Total Portfolio Value')"
   ]
  },
  {
   "cell_type": "code",
   "execution_count": 44,
   "metadata": {},
   "outputs": [
    {
     "data": {
      "text/plain": [
       "<matplotlib.axes._subplots.AxesSubplot at 0x1cf095d8048>"
      ]
     },
     "execution_count": 44,
     "metadata": {},
     "output_type": "execute_result"
    },
    {
     "data": {
      "image/png": "[encoded data removed]",
      "text/plain": [
       "<Figure size 432x288 with 1 Axes>"
      ]
     },
     "metadata": {
      "needs_background": "light"
     },
     "output_type": "display_data"
    }
   ],
   "source": [
    "portfolio_val.drop('Total Pos',axis=1).plot(kind='line')"
   ]
  },
  {
   "cell_type": "markdown",
   "metadata": {},
   "source": [
    "Daily Return"
   ]
  },
  {
   "cell_type": "code",
   "execution_count": 45,
   "metadata": {},
   "outputs": [],
   "source": [
    "portfolio_val['Daily Return'] = portfolio_val['Total Pos'].pct_change(1)"
   ]
  },
  {
   "cell_type": "markdown",
   "metadata": {},
   "source": [
    "Cumulative Return"
   ]
  },
  {
   "cell_type": "code",
   "execution_count": 48,
   "metadata": {},
   "outputs": [
    {
     "name": "stdout",
     "output_type": "stream",
     "text": [
      "Our return 423.14752243965296%!\n"
     ]
    }
   ],
   "source": [
    "cum_ret = 100 * (portfolio_val['Total Pos'][-1]/portfolio_val['Total Pos'][0] -1 )\n",
    "print(f'Our return {cum_ret}%!')"
   ]
  },
  {
   "cell_type": "code",
   "execution_count": 49,
   "metadata": {},
   "outputs": [],
   "source": [
    "SR = portfolio_val['Daily Return'].mean()/portfolio_val['Daily Return'].std()"
   ]
  },
  {
   "cell_type": "code",
   "execution_count": 50,
   "metadata": {},
   "outputs": [
    {
     "data": {
      "text/plain": [
       "0.05154252147553175"
      ]
     },
     "execution_count": 50,
     "metadata": {},
     "output_type": "execute_result"
    }
   ],
   "source": [
    "SR"
   ]
  },
  {
   "cell_type": "code",
   "execution_count": null,
   "metadata": {},
   "outputs": [],
   "source": []
  }
 ],
 "metadata": {
  "kernelspec": {
   "display_name": "Python 3",
   "language": "python",
   "name": "python3"
  },
  "language_info": {
   "codemirror_mode": {
    "name": "ipython",
    "version": 3
   },
   "file_extension": ".py",
   "mimetype": "text/x-python",
   "name": "python",
   "nbconvert_exporter": "python",
   "pygments_lexer": "ipython3",
   "version": "3.7.4"
  }
 },
 "nbformat": 4,
 "nbformat_minor": 2
}
