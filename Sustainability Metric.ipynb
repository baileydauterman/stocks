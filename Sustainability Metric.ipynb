{
 "cells": [
  {
   "cell_type": "code",
   "execution_count": 13,
   "metadata": {},
   "outputs": [],
   "source": [
    "import requests\n",
    "import urllib.request\n",
    "import time\n",
    "from bs4 import BeautifulSoup\n",
    "from terminaltables import AsciiTable\n",
    "from datetime import datetime\n",
    "import numbers\n",
    "\n",
    "def esg(ticker):\n",
    "    url = \"https://finance.yahoo.com/quote/{}/sustainability\".format(ticker)\n",
    "    response = requests.get(url)\n",
    "    soup = BeautifulSoup(response.text, \"html.parser\")\n",
    "    span = soup.findAll('span')\n",
    "    div = soup.find_all('div')\n",
    "    h1 = soup.find_all('h1')\n",
    "    h1 = str(h1[0]).split(\">\")[1].split(\"<\")[0]\n",
    "    h1 = h1.split(\"- \")[1]\n",
    "    print(h1)\n",
    "\n",
    "    if len(span) < 50:\n",
    "        print(f\"{ticker} has no sustainability data on Yahoo Finance or CSRHub\")\n",
    "        \n",
    "    else:\n",
    "        performance = str(span[17]).split(\">\")[1].split(\"<\")[0]\n",
    "        print(f\"Yahoo Finance ESG\\n{ticker}: {performance}\\n\\n\")\n",
    "        print(\"Companies are compared on a national level\")\n",
    "\n",
    "        total_esg = \"Total ESG Score\"\n",
    "        total_esg_score = str(div[66]).split(\">\")[1].split(\"<\")[0]\n",
    "        total_esg_percentile = str(span[16]).split(\">\")[1].split(\"<\")[0]\n",
    "\n",
    "        environmental = \"Environment\"\n",
    "        enviro_esg_score = str(div[76]).split(\">\")[1].split(\"<\")[0]\n",
    "        enviro_esg_percentile = str(span[21]).split(\">\")[1].split(\"<\")[0]\n",
    "\n",
    "        social = \"Social\"\n",
    "        social_esg_score = str(div[83]).split(\">\")[1].split(\"<\")[0]\n",
    "        social_esg_percentile = str(span[24]).split(\">\")[1].split(\"<\")[0]\n",
    "\n",
    "        gov = \"Governance\"\n",
    "        gov_esg_score = str(div[90]).split(\">\")[1].split(\"<\")[0]\n",
    "        gov_esg_percentile = str(span[27]).split(\">\")[1].split(\"<\")[0]\n",
    "        \n",
    "        table_date = [\n",
    "            ['Indicator', 'Score','Percentile'],\n",
    "            [total_esg,total_esg_score,total_esg_percentile],\n",
    "            [environmental,enviro_esg_score,enviro_esg_percentile],\n",
    "            [social,social_esg_score,social_esg_percentile],\n",
    "            [gov,gov_esg_score,gov_esg_percentile]\n",
    "        ]\n",
    "        table = AsciiTable(table_date)\n",
    "        print(table.table)\n",
    "        \n",
    "        url = \"https://www.csrhub.com/search/name/{}\".format(h1)\n",
    "        response = requests.get(url)\n",
    "        soup = BeautifulSoup(response.text, \"html.parser\")\n",
    "        a = soup.findAll('a')\n",
    "        a = str(a[29]).split('href=\"')[1].split('\"')[0]\n",
    "\n",
    "        url = \"https://www.csrhub.com/{}\".format(a)\n",
    "        response = requests.get(url)\n",
    "        soup = BeautifulSoup(response.text, \"html.parser\")\n",
    "        span = soup.find_all('span')\n",
    "        span = str(span[10]).split(\">\")[1].split(\"<\")[0]\n",
    "        print(\"\\n\\nCSRHub\")\n",
    "        print(\"CSR & ESG Score\")\n",
    "        print(f\"\\n{span} CSR / ESG Ranking Compared With 17,989 Companies\")"
   ]
  },
  {
   "cell_type": "code",
   "execution_count": 15,
   "metadata": {},
   "outputs": [
    {
     "name": "stdout",
     "output_type": "stream",
     "text": [
      "Cedar Fair, L.P.\n",
      "FUN has no sustainability data on Yahoo Finance or CSRHub\n"
     ]
    }
   ],
   "source": [
    "esg(\"FUN\")"
   ]
  },
  {
   "cell_type": "code",
   "execution_count": 16,
   "metadata": {},
   "outputs": [
    {
     "name": "stdout",
     "output_type": "stream",
     "text": [
      "The Boeing Company\n",
      "Yahoo Finance ESG\n",
      "BA: Average Performer\n",
      "\n",
      "\n",
      "Companies are compared on a national level\n",
      "+-----------------+-------+-----------------+\n",
      "| Indicator       | Score | Percentile      |\n",
      "+-----------------+-------+-----------------+\n",
      "| Total ESG Score | 52    | 24th percentile |\n",
      "| Environment     | 54    | 39th percentile |\n",
      "| Social          | 43    | 10th percentile |\n",
      "| Governance      | 61    | 39th percentile |\n",
      "+-----------------+-------+-----------------+\n",
      "\n",
      "\n",
      "CSRHub\n",
      "CSR & ESG Score\n",
      "\n",
      "84 CSR / ESG Ranking Compared With 17,989 Companies\n"
     ]
    }
   ],
   "source": [
    "esg(\"BA\")"
   ]
  }
 ],
 "metadata": {
  "kernelspec": {
   "display_name": "Python 3",
   "language": "python",
   "name": "python3"
  },
  "language_info": {
   "codemirror_mode": {
    "name": "ipython",
    "version": 3
   },
   "file_extension": ".py",
   "mimetype": "text/x-python",
   "name": "python",
   "nbconvert_exporter": "python",
   "pygments_lexer": "ipython3",
   "version": "3.7.4"
  }
 },
 "nbformat": 4,
 "nbformat_minor": 2
}
