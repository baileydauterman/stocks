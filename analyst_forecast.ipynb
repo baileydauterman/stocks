import requests
import urllib.request
import time
from bs4 import BeautifulSoup
from terminaltables import AsciiTable
from datetime import datetime

def analyst_forecast(ticker):
    url = "https://money.cnn.com/quote/forecast/forecast.html?symb={}".format(ticker)
    response = requests.get(url)
    soup = BeautifulSoup(response.text, "html.parser")
    span = soup.findAll('p')
    check = "Most stock quote data provided by BATS."
    
    if len(span) < 3:
        print("Make sure that the stock ticker is correct")
    else:
        stock_price = str(span[0]).split(">")
        price = str(stock_price[2]).split("<")[0]
        analysis_one = str(stock_price[1]).split("<")[0]
        analysis_two = str(stock_price[-2]).split("<")[0]
        print(f"Stock Price Forecast\n{analysis_one}{price}{analysis_two}")

        analyst_recommendation = str(span[1]).split(">")
        analyst_one = str(analyst_recommendation[1]).split("<")[0]
        decision = str(analyst_recommendation[2]).split("<")[0]
        analyst_two = str(analyst_recommendation[3]).split("<")[0]

        print(f"\n\nAnalyst Recommendations\n{analyst_one}{decision}{analyst_two}")
